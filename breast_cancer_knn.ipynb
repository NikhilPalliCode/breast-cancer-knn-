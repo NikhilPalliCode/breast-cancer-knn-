# Importing Libraries
import numpy as np
import pandas as pd
import matplotlib.pyplot as plt
import seaborn as sns
from sklearn.model_selection import train_test_split, cross_val_score
from sklearn.neighbors import KNeighborsClassifier
from sklearn.preprocessing import StandardScaler

# Loading dataset
df = pd.read_csv("data.csv")

print(df.info())

# Clean data
df = df.drop(['Unnamed: 32', 'id'], axis=1)
df['diagnosis'] = df['diagnosis'].map({'M': 1, 'B': 0})

# Visualizations
plt.figure(figsize=(10, 6))
sns.scatterplot(x='radius_mean', y='texture_mean', hue='diagnosis', data=df)
plt.title('Radius Mean vs Texture Mean')
plt.savefig('radius_vs_texture.png')  # Save plot instead of showing
plt.close()

plt.figure(figsize=(10, 6))
sns.scatterplot(x='smoothness_mean', y='compactness_mean', hue='diagnosis', data=df)
plt.title('Smoothness Mean vs Compactness Mean')
plt.savefig('smoothness_vs_compactness.png')  # Save plot
plt.close()

# Prepare data
X = df.drop('diagnosis', axis=1)
y = df['diagnosis']
X_train, X_test, y_train, y_test = train_test_split(X, y, test_size=0.33, random_state=42)

# Scale features
scaler = StandardScaler()
X_train_scaled = scaler.fit_transform(X_train)
X_test_scaled = scaler.transform(X_test)

# Train initial KNN model
knn = KNeighborsClassifier(n_neighbors=13)
knn.fit(X_train_scaled, y_train)
print(f"KNN Accuracy: {knn.score(X_test_scaled, y_test):.4f}")

# Cross-validation for optimal k
neighbors = range(1, 51, 2)
cv_scores = []

for k in neighbors:
    knn = KNeighborsClassifier(n_neighbors=k)
    scores = cross_val_score(knn, X_train_scaled, y_train, cv=10, scoring='accuracy')
    cv_scores.append(scores.mean())

# Find optimal k
mse = [1 - x for x in cv_scores]
optimal_k = neighbors[mse.index(min(mse))]
print(f'The optimal number of neighbors is {optimal_k}')

# Plot misclassification error
plt.figure(figsize=(10, 6))
plt.plot(neighbors, mse)
plt.xlabel('Number of Neighbors')
plt.ylabel('Misclassification Error')
plt.title('Misclassification Error vs K Value')
plt.savefig('misclassification_error.png')  # Save plot
plt.close()

# Train with optimal k
optimal_knn = KNeighborsClassifier(n_neighbors=optimal_k)
optimal_knn.fit(X_train_scaled, y_train)
print(f"Optimal KNN Accuracy: {optimal_knn.score(X_test_scaled, y_test):.4f}")
